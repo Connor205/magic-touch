{
 "cells": [
  {
   "cell_type": "code",
   "execution_count": 1,
   "metadata": {},
   "outputs": [],
   "source": [
    "import pickle\n",
    "from pprint import pprint\n",
    "from dataclasses import dataclass\n",
    "\n"
   ]
  },
  {
   "cell_type": "code",
   "execution_count": 2,
   "metadata": {},
   "outputs": [],
   "source": [
    "@dataclass\n",
    "class Position:\n",
    "    x: int\n",
    "    y: int\n",
    "    radius: int\n",
    "\n",
    "\n",
    "@dataclass\n",
    "class Contour:\n",
    "    x: int\n",
    "    y: int\n",
    "    radius: int\n",
    "    ss: float\n",
    "\n",
    "\n",
    "@dataclass\n",
    "class FrameData:\n",
    "    frame_number: int\n",
    "    analyzed: bool\n",
    "    frame_read_time: float = None\n",
    "    mask_creation_time: float = None\n",
    "    contour_find_time: float = None\n",
    "    num_contours: int = None\n",
    "    num_evaluated_contours: int = None\n",
    "    contour_evaluated_time: float = None\n",
    "    contour_evaluated_time_avg: float = None\n",
    "    ball_position: Position = None"
   ]
  },
  {
   "cell_type": "code",
   "execution_count": 3,
   "metadata": {},
   "outputs": [
    {
     "name": "stderr",
     "output_type": "stream",
     "text": [
      "2021-11-24 17:47:13.878806: I tensorflow/core/platform/cpu_feature_guard.cc:151] This TensorFlow binary is optimized with oneAPI Deep Neural Network Library (oneDNN) to use the following CPU instructions in performance-critical operations:  AVX2 FMA\n",
      "To enable them in other operations, rebuild TensorFlow with the appropriate compiler flags.\n"
     ]
    }
   ],
   "source": [
    "filename = 'spikeball3-with-ball.mov_framedata.p'\n",
    "\n",
    "with open(filename, 'rb') as f:\n",
    "    framedata = pickle.load(f)"
   ]
  },
  {
   "cell_type": "code",
   "execution_count": 8,
   "metadata": {},
   "outputs": [
    {
     "name": "stdout",
     "output_type": "stream",
     "text": [
      "0.017027106749999753\n",
      "0.01708296800010267\n",
      "1.0515975820379966\n"
     ]
    }
   ],
   "source": [
    "avg_mask_creation_time = sum(f.mask_creation_time\n",
    "                             for f in framedata) / len(framedata)\n",
    "print(avg_mask_creation_time)\n",
    "\n",
    "total_contour_find_time = sum(f.contour_find_time for f in framedata)\n",
    "total_contours = sum(f.num_contours for f in framedata)\n",
    "total_evaluated_contours = sum(f.num_evaluated_contours for f in framedata)\n",
    "total_contour_evaluation_time = sum(f.contour_evaluated_time for f in framedata)\n",
    "avg_contour_evaluated_time = total_contour_evaluation_time / total_evaluated_contours\n",
    "print(avg_contour_evaluated_time)\n",
    "print(total_evaluated_contours / len(framedata))"
   ]
  }
 ],
 "metadata": {
  "interpreter": {
   "hash": "1aedc917f94a2f6449c875ba79f7816073af61b36c35987385a17133f8f002bd"
  },
  "kernelspec": {
   "display_name": "Python 3.9.0 64-bit ('magic-touch-env-39': pyenv)",
   "language": "python",
   "name": "python3"
  },
  "language_info": {
   "codemirror_mode": {
    "name": "ipython",
    "version": 3
   },
   "file_extension": ".py",
   "mimetype": "text/x-python",
   "name": "python",
   "nbconvert_exporter": "python",
   "pygments_lexer": "ipython3",
   "version": "3.9.0"
  },
  "orig_nbformat": 4
 },
 "nbformat": 4,
 "nbformat_minor": 2
}
